{
  "metadata": {
    "language_info": {
      "codemirror_mode": {
        "name": "python",
        "version": 3
      },
      "file_extension": ".py",
      "mimetype": "text/x-python",
      "name": "python",
      "nbconvert_exporter": "python",
      "pygments_lexer": "ipython3",
      "version": "3.8"
    },
    "kernelspec": {
      "name": "python",
      "display_name": "Pyolite",
      "language": "python"
    }
  },
  "nbformat_minor": 4,
  "nbformat": 4,
  "cells": [
    {
      "cell_type": "markdown",
      "source": "# My Jupyter Notebook on IBM Watson Studio",
      "metadata": {}
    },
    {
      "cell_type": "markdown",
      "source": "**Shaima Afreen**\n\nI want to become a Data Scientist.",
      "metadata": {}
    },
    {
      "cell_type": "markdown",
      "source": "*I want to become a data scientist because I have problem solving skills and applying mathematical reasoning to real-world problems is very satisfying.*",
      "metadata": {}
    },
    {
      "cell_type": "markdown",
      "source": "### The below cell is about a simple statement in python programming language which prints anything user writes in between brackets.",
      "metadata": {}
    },
    {
      "cell_type": "code",
      "source": "print(\"Hello..\")",
      "metadata": {
        "trusted": true
      },
      "execution_count": 1,
      "outputs": [
        {
          "name": "stdout",
          "text": "Hello..\n",
          "output_type": "stream"
        }
      ]
    },
    {
      "cell_type": "markdown",
      "source": "1. Apple\n2. Mango\n3. Banana\n\n\n<a href=\"https://www.google.com\">Click Here</a>\n\n\nThis `sentence` has some `words` which are `highlighted`.\n\n\n~~Hello~~\n    ",
      "metadata": {}
    },
    {
      "cell_type": "code",
      "source": "",
      "metadata": {},
      "execution_count": null,
      "outputs": []
    }
  ]
}